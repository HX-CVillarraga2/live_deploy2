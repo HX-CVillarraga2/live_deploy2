{
 "cells": [
  {
   "cell_type": "markdown",
   "metadata": {},
   "source": [
    "### How to deploy a ML model with docker\n",
    "\n",
    "This example is not intended to be for ML itself. Please note that this is not the correct way to approach a ML problem, but rather to deploy ML models in production\n",
    "\n",
    "<sub>This tutorial is part of a workshop series as part of Henry'Bootcamp's Data science program</sub>"
   ]
  },
  {
   "cell_type": "code",
   "execution_count": 1,
   "metadata": {},
   "outputs": [],
   "source": [
    "\n",
    "from sklearn.datasets import load_iris\n",
    "import pandas as pd\n",
    "import numpy as np\n",
    "from sklearn.model_selection import GridSearchCV\n",
    "from sklearn.tree import DecisionTreeClassifier\n",
    "from sklearn.neighbors import KNeighborsClassifier\n",
    "from joblib import dump, load"
   ]
  },
  {
   "cell_type": "markdown",
   "metadata": {},
   "source": [
    "We will use the IRIS dataset"
   ]
  },
  {
   "cell_type": "code",
   "execution_count": 2,
   "metadata": {},
   "outputs": [],
   "source": [
    "# Let's split features and target\n",
    "\n",
    "iris = load_iris()\n",
    "X = iris.data\n",
    "y = iris.target"
   ]
  },
  {
   "cell_type": "code",
   "execution_count": 3,
   "metadata": {},
   "outputs": [
    {
     "data": {
      "text/plain": [
       "array(['setosa', 'versicolor', 'virginica'], dtype='<U10')"
      ]
     },
     "execution_count": 3,
     "metadata": {},
     "output_type": "execute_result"
    }
   ],
   "source": [
    "iris.target_names"
   ]
  },
  {
   "cell_type": "markdown",
   "metadata": {},
   "source": [
    "We'll use GridSearch for the best parameters for our model. Them, we'll implement two classification algorithms"
   ]
  },
  {
   "cell_type": "code",
   "execution_count": 4,
   "metadata": {},
   "outputs": [
    {
     "data": {
      "text/plain": [
       "{'n_neighbors': 6}"
      ]
     },
     "execution_count": 4,
     "metadata": {},
     "output_type": "execute_result"
    }
   ],
   "source": [
    "# Decission Tree Classifier\n",
    "\n",
    "tree_param = {'criterion':['gini','entropy'],'max_depth':[3,4,5,6,7,8,9,10,15,20]}\n",
    "tree_model = GridSearchCV(DecisionTreeClassifier(), param_grid=tree_param, cv=5, scoring='accuracy')\n",
    "tree_model.fit(X,y)\n",
    "tree_model.best_params_ \n",
    "\n",
    "# K-Nearest Neighbors\n",
    "kneighbors_param = {'n_neighbors':[1,2,3,4,5,6,7,8,9,10,15]}\n",
    "kneighbors_model = GridSearchCV(KNeighborsClassifier(), param_grid=kneighbors_param, cv=5, scoring='accuracy')\n",
    "kneighbors_model.fit(X,y)\n",
    "kneighbors_model.best_params_"
   ]
  },
  {
   "cell_type": "markdown",
   "metadata": {},
   "source": [
    "The best model, according to the training already performed, is stored in a .py file for future implementation. The objective is to predict new instances"
   ]
  },
  {
   "cell_type": "code",
   "execution_count": 5,
   "metadata": {},
   "outputs": [
    {
     "data": {
      "text/plain": [
       "['kneighbors_model.py']"
      ]
     },
     "execution_count": 5,
     "metadata": {},
     "output_type": "execute_result"
    }
   ],
   "source": [
    "final_model_tree = tree_model.best_estimator_\n",
    "dump(final_model_tree, filename='tree_model.py')\n",
    "\n",
    "final_model_kn = kneighbors_model.best_estimator_\n",
    "dump(final_model_kn, filename='kneighbors_model.py')"
   ]
  }
 ],
 "metadata": {
  "kernelspec": {
   "display_name": "Python 3.10.8 64-bit (microsoft store)",
   "language": "python",
   "name": "python3"
  },
  "language_info": {
   "codemirror_mode": {
    "name": "ipython",
    "version": 3
   },
   "file_extension": ".py",
   "mimetype": "text/x-python",
   "name": "python",
   "nbconvert_exporter": "python",
   "pygments_lexer": "ipython3",
   "version": "3.10.8"
  },
  "orig_nbformat": 4,
  "vscode": {
   "interpreter": {
    "hash": "9e25dd8690d9a826693854d692b98278e25f421136d3ba79f8fb941586ad00d0"
   }
  }
 },
 "nbformat": 4,
 "nbformat_minor": 2
}
